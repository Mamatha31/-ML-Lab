{
 "cells": [
  {
   "cell_type": "code",
   "execution_count": 27,
   "metadata": {},
   "outputs": [],
   "source": [
    "import pandas as pd"
   ]
  },
  {
   "cell_type": "code",
   "execution_count": 28,
   "metadata": {},
   "outputs": [
    {
     "name": "stdout",
     "output_type": "stream",
     "text": [
      "        TV  Sales\n",
      "0    230.1   22.1\n",
      "1     44.5   10.4\n",
      "2     17.2    9.3\n",
      "3    151.5   18.5\n",
      "4    180.8   12.9\n",
      "..     ...    ...\n",
      "195   38.2    7.6\n",
      "196   94.2    9.7\n",
      "197  177.0   12.8\n",
      "198  283.6   25.5\n",
      "199  232.1   13.4\n",
      "\n",
      "[200 rows x 2 columns]\n"
     ]
    }
   ],
   "source": [
    "df=pd.read_csv('tvmarketing.csv')\n",
    "print(df)"
   ]
  },
  {
   "cell_type": "code",
   "execution_count": 29,
   "metadata": {},
   "outputs": [
    {
     "name": "stdout",
     "output_type": "stream",
     "text": [
      "      TV  Sales\n",
      "0  230.1   22.1\n",
      "1   44.5   10.4\n",
      "2   17.2    9.3\n",
      "3  151.5   18.5\n",
      "4  180.8   12.9\n"
     ]
    }
   ],
   "source": [
    "print(df.head())"
   ]
  },
  {
   "cell_type": "code",
   "execution_count": 30,
   "metadata": {},
   "outputs": [
    {
     "name": "stdout",
     "output_type": "stream",
     "text": [
      "(200, 2)\n",
      "No.of rows 200\n",
      "No.of columns 2\n"
     ]
    }
   ],
   "source": [
    "print(df.shape)\n",
    "print(\"No.of rows\",df.shape[0])\n",
    "print(\"No.of columns\",df.shape[1])"
   ]
  },
  {
   "cell_type": "code",
   "execution_count": 31,
   "metadata": {},
   "outputs": [
    {
     "name": "stdout",
     "output_type": "stream",
     "text": [
      "               TV       Sales\n",
      "count  200.000000  200.000000\n",
      "mean   147.042500   14.022500\n",
      "std     85.854236    5.217457\n",
      "min      0.700000    1.600000\n",
      "25%     74.375000   10.375000\n",
      "50%    149.750000   12.900000\n",
      "75%    218.825000   17.400000\n",
      "max    296.400000   27.000000\n"
     ]
    }
   ],
   "source": [
    "print(df.describe())"
   ]
  },
  {
   "cell_type": "code",
   "execution_count": 32,
   "metadata": {},
   "outputs": [
    {
     "data": {
      "image/png": "[encoded data removed]",
      "text/plain": [
       "<Figure size 432x288 with 1 Axes>"
      ]
     },
     "metadata": {
      "needs_background": "light"
     },
     "output_type": "display_data"
    }
   ],
   "source": [
    "import matplotlib.pyplot as plt\n",
    "plt.scatter(df['TV'],df['Sales'])\n",
    "plt.xlabel('TV')\n",
    "plt.ylabel('sales')\n",
    "plt.show()\n"
   ]
  },
  {
   "cell_type": "code",
   "execution_count": 33,
   "metadata": {},
   "outputs": [],
   "source": [
    "x=df['TV']\n",
    "y=df['Sales']"
   ]
  },
  {
   "cell_type": "code",
   "execution_count": 34,
   "metadata": {},
   "outputs": [
    {
     "name": "stdout",
     "output_type": "stream",
     "text": [
      "(140,)\n",
      "(60,)\n",
      "(140,)\n",
      "(60,)\n"
     ]
    }
   ],
   "source": [
    "from sklearn.model_selection import train_test_split\n",
    "x_train,x_test,y_train,y_test=train_test_split(x,y,test_size=0.3)\n",
    "print(x_train.shape)\n",
    "print(x_test.shape)\n",
    "print(y_train.shape)\n",
    "print(y_test.shape)"
   ]
  },
  {
   "cell_type": "code",
   "execution_count": 9,
   "metadata": {},
   "outputs": [
    {
     "name": "stdout",
     "output_type": "stream",
     "text": [
      "Slope(m):0.047379351348482784\n",
      "Intercept(c):7.181483775963553\n"
     ]
    }
   ],
   "source": [
    "import numpy as np\n",
    "N = len(x_train)\n",
    "sum_x=np.sum(x_train)\n",
    "sum_y=np.sum(y_train)\n",
    "sum_xy=np.sum(x_train * y_train)\n",
    "sum_x2=np.sum(x_train ** 2)\n",
    "m = (N*sum_xy-sum_x*sum_y)/(N*sum_x2-sum_x**2)\n",
    "c = (sum_y-m*sum_x)/N\n",
    "print(f\"Slope(m):{m}\")\n",
    "print(f\"Intercept(c):{c}\")\n"
   ]
  },
  {
   "cell_type": "code",
   "execution_count": 10,
   "metadata": {},
   "outputs": [
    {
     "name": "stdout",
     "output_type": "stream",
     "text": [
      "[[0.04737935]]\n",
      "[7.18148378]\n"
     ]
    }
   ],
   "source": [
    "from sklearn.linear_model import LinearRegression\n",
    "x_train=np.array(x_train).reshape(-1,1)\n",
    "y_train=np.array(y_train).reshape(-1,1)\n",
    "model=LinearRegression()\n",
    "model.fit(x_train,y_train)\n",
    "print(model.coef_)\n",
    "print(model.intercept_)\n"
   ]
  },
  {
   "cell_type": "code",
   "execution_count": 13,
   "metadata": {},
   "outputs": [
    {
     "name": "stdout",
     "output_type": "stream",
     "text": [
      "[[ 7.21464932]\n",
      " [12.67748853]\n",
      " [10.65912816]\n",
      " [ 9.28986491]\n",
      " [ 9.84420332]\n",
      " [12.73434375]\n",
      " [18.08347252]\n",
      " [11.78675673]\n",
      " [ 8.10064319]\n",
      " [17.71865152]\n",
      " [19.62803938]\n",
      " [ 8.11011906]\n",
      " [ 7.99640862]\n",
      " [21.05889579]\n",
      " [ 9.71627907]\n",
      " [ 9.22353382]\n",
      " [ 8.98189913]\n",
      " [ 8.45125039]\n",
      " [16.5436436 ]\n",
      " [ 9.55045134]\n",
      " [16.10775357]\n",
      " [17.11219582]\n",
      " [17.43437541]\n",
      " [ 7.55104272]\n",
      " [15.56762896]\n",
      " [ 9.21879588]\n",
      " [17.38699606]\n",
      " [12.53061254]\n",
      " [16.61471263]\n",
      " [16.07932596]\n",
      " [10.42223141]\n",
      " [18.55726603]\n",
      " [20.73197826]\n",
      " [16.43940903]\n",
      " [17.5954652 ]\n",
      " [10.80126622]\n",
      " [ 7.99640862]\n",
      " [18.17823122]\n",
      " [15.50603581]\n",
      " [10.74914893]\n",
      " [20.4808677 ]\n",
      " [ 8.37070549]\n",
      " [14.92800772]\n",
      " [17.49596856]\n",
      " [12.38373655]\n",
      " [14.27891061]\n",
      " [15.94192584]\n",
      " [15.29756666]\n",
      " [ 7.5889462 ]\n",
      " [10.3938038 ]\n",
      " [14.97538707]\n",
      " [ 7.80689121]\n",
      " [ 7.43733227]\n",
      " [10.00529312]\n",
      " [16.98427157]\n",
      " [20.45717802]\n",
      " [18.55726603]\n",
      " [10.98130775]\n",
      " [19.06896303]\n",
      " [ 8.06747765]]\n"
     ]
    }
   ],
   "source": [
    "#10\n",
    "x_test=np.array(x_test).reshape(-1,1)\n",
    "y_pred=model.predict(x_test)\n",
    "print(y_pred)"
   ]
  },
  {
   "cell_type": "code",
   "execution_count": 14,
   "metadata": {},
   "outputs": [
    {
     "name": "stdout",
     "output_type": "stream",
     "text": [
      "[[ 7.21464932]\n",
      " [12.67748853]\n",
      " [10.65912816]\n",
      " [ 9.28986491]\n",
      " [ 9.84420332]\n",
      " [12.73434375]\n",
      " [18.08347252]\n",
      " [11.78675673]\n",
      " [ 8.10064319]\n",
      " [17.71865152]\n",
      " [19.62803938]\n",
      " [ 8.11011906]\n",
      " [ 7.99640862]\n",
      " [21.05889579]\n",
      " [ 9.71627907]\n",
      " [ 9.22353382]\n",
      " [ 8.98189913]\n",
      " [ 8.45125039]\n",
      " [16.5436436 ]\n",
      " [ 9.55045134]\n",
      " [16.10775357]\n",
      " [17.11219582]\n",
      " [17.43437541]\n",
      " [ 7.55104272]\n",
      " [15.56762896]\n",
      " [ 9.21879588]\n",
      " [17.38699606]\n",
      " [12.53061254]\n",
      " [16.61471263]\n",
      " [16.07932596]\n",
      " [10.42223141]\n",
      " [18.55726603]\n",
      " [20.73197826]\n",
      " [16.43940903]\n",
      " [17.5954652 ]\n",
      " [10.80126622]\n",
      " [ 7.99640862]\n",
      " [18.17823122]\n",
      " [15.50603581]\n",
      " [10.74914893]\n",
      " [20.4808677 ]\n",
      " [ 8.37070549]\n",
      " [14.92800772]\n",
      " [17.49596856]\n",
      " [12.38373655]\n",
      " [14.27891061]\n",
      " [15.94192584]\n",
      " [15.29756666]\n",
      " [ 7.5889462 ]\n",
      " [10.3938038 ]\n",
      " [14.97538707]\n",
      " [ 7.80689121]\n",
      " [ 7.43733227]\n",
      " [10.00529312]\n",
      " [16.98427157]\n",
      " [20.45717802]\n",
      " [18.55726603]\n",
      " [10.98130775]\n",
      " [19.06896303]\n",
      " [ 8.06747765]]\n"
     ]
    }
   ],
   "source": [
    "#13\n",
    "y_pred=model.predict(x_test)\n",
    "print(y_pred)\n"
   ]
  },
  {
   "cell_type": "code",
   "execution_count": 18,
   "metadata": {
    "scrolled": true
   },
   "outputs": [
    {
     "data": {
      "image/png": "[encoded data removed]",
      "text/plain": [
       "<Figure size 432x288 with 1 Axes>"
      ]
     },
     "metadata": {
      "needs_background": "light"
     },
     "output_type": "display_data"
    }
   ],
   "source": [
    "plt.scatter(x_train,y_train,color='blue')\n",
    "plt.plot(x_train,model.predict(x_train),color='red')\n",
    "plt.show()\n"
   ]
  },
  {
   "cell_type": "code",
   "execution_count": 23,
   "metadata": {},
   "outputs": [
    {
     "data": {
      "image/png": "[encoded data removed]",
      "text/plain": [
       "<Figure size 432x288 with 1 Axes>"
      ]
     },
     "metadata": {
      "needs_background": "light"
     },
     "output_type": "display_data"
    }
   ],
   "source": [
    "plt.scatter(x_test,y_test,color='blue')\n",
    "plt.plot(x_test,model.predict(x_test),color='red')\n",
    "plt.show()\n"
   ]
  },
  {
   "cell_type": "code",
   "execution_count": 26,
   "metadata": {},
   "outputs": [
    {
     "name": "stdout",
     "output_type": "stream",
     "text": [
      "mean value:7.98\n",
      "r2 value:0.69\n"
     ]
    }
   ],
   "source": [
    "from sklearn.metrics import mean_squared_error,r2_score\n",
    "mse=mean_squared_error(y_test,y_pred)\n",
    "r2=r2_score(y_test,y_pred)\n",
    "print(f\"mean value:{mse:.2f}\")\n",
    "print(f\"r2 value:{r2:.2f}\")"
   ]
  },
  {
   "cell_type": "code",
   "execution_count": null,
   "metadata": {},
   "outputs": [],
   "source": []
  }
 ],
 "metadata": {
  "kernelspec": {
   "display_name": "Python 3",
   "language": "python",
   "name": "python3"
  },
  "language_info": {
   "codemirror_mode": {
    "name": "ipython",
    "version": 3
   },
   "file_extension": ".py",
   "mimetype": "text/x-python",
   "name": "python",
   "nbconvert_exporter": "python",
   "pygments_lexer": "ipython3",
   "version": "3.8.10"
  }
 },
 "nbformat": 4,
 "nbformat_minor": 4
}
